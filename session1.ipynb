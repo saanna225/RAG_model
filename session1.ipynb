{
 "cells": [
  {
   "cell_type": "code",
   "execution_count": 3,
   "id": "393ded77-12dd-4120-be6b-cde18577d850",
   "metadata": {},
   "outputs": [],
   "source": [
    "!pip install -q trafilatura pyyaml tqdm python-dotenv\n"
   ]
  },
  {
   "cell_type": "code",
   "execution_count": 4,
   "id": "67373e1a-25a9-4a68-8c73-c004e3da04c4",
   "metadata": {},
   "outputs": [
    {
     "data": {
      "text/plain": [
       "(WindowsPath('C:/Users/Patron/neuro-assitant/artifacts/html'),\n",
       " WindowsPath('C:/Users/Patron/neuro-assitant/ artifacts/md'),\n",
       " WindowsPath('C:/Users/Patron/neuro-assitant/registry'))"
      ]
     },
     "execution_count": 4,
     "metadata": {},
     "output_type": "execute_result"
    }
   ],
   "source": [
    "import os,pathlib,textwrap,yaml\n",
    "ROOT=pathlib.Path.cwd()\n",
    "ART_HTML =ROOT /\"artifacts\"/\"html\"\n",
    "ART_MD= ROOT/\" artifacts\"/\"md\"\n",
    "REG_DIR =ROOT/\"registry\"\n",
    "for p in [ART_HTML,ART_MD,REG_DIR]:\n",
    "    p.mkdir(parents=True,exist_ok=True)\n",
    "sources={\n",
    "    \"seeds\":[\n",
    "        \"https://surfer.nmr.mgh.harvard.edu/fswiki/reckon-all\",\n",
    "        \"https://fmriprep.org/en/stable/usage.html\"\n",
    "    ]\n",
    "}\n",
    "with open(REG_DIR /\"sources.yaml\",\"w\",encoding=\"utf-8\") as f:\n",
    "    yaml.safe_dump(sources,f,sort_keys=False)\n",
    "ART_HTML,ART_MD,REG_DIR\n",
    "          "
   ]
  },
  {
   "cell_type": "code",
   "execution_count": 6,
   "id": "e6f02ff0-a09e-474b-b920-b576915d264d",
   "metadata": {},
   "outputs": [
    {
     "ename": "HTTPError",
     "evalue": "404 Client Error: NOTFOUND for url: https://surfer.nmr.mgh.harvard.edu/fswiki/reckon-all",
     "output_type": "error",
     "traceback": [
      "\u001b[1;31m---------------------------------------------------------------------------\u001b[0m",
      "\u001b[1;31mHTTPError\u001b[0m                                 Traceback (most recent call last)",
      "Cell \u001b[1;32mIn[6], line 24\u001b[0m\n\u001b[0;32m     21\u001b[0m \u001b[38;5;28;01mwith\u001b[39;00m \u001b[38;5;28mopen\u001b[39m(REG_DIR \u001b[38;5;241m/\u001b[39m\u001b[38;5;124m\"\u001b[39m\u001b[38;5;124msources.yaml\u001b[39m\u001b[38;5;124m\"\u001b[39m,\u001b[38;5;124m\"\u001b[39m\u001b[38;5;124mr\u001b[39m\u001b[38;5;124m\"\u001b[39m,encoding\u001b[38;5;241m=\u001b[39m\u001b[38;5;124m\"\u001b[39m\u001b[38;5;124mutf-8\u001b[39m\u001b[38;5;124m\"\u001b[39m)\u001b[38;5;28;01mas\u001b[39;00m f:\n\u001b[0;32m     22\u001b[0m     seed_url \u001b[38;5;241m=\u001b[39myaml\u001b[38;5;241m.\u001b[39msafe_load(f)[\u001b[38;5;124m\"\u001b[39m\u001b[38;5;124mseeds\u001b[39m\u001b[38;5;124m\"\u001b[39m][\u001b[38;5;241m0\u001b[39m]\n\u001b[1;32m---> 24\u001b[0m html \u001b[38;5;241m=\u001b[39m fetch(seed_url)\n\u001b[0;32m     25\u001b[0m md \u001b[38;5;241m=\u001b[39m to_markdown(html,seed_url)\n\u001b[0;32m     26\u001b[0m tag\u001b[38;5;241m=\u001b[39m sha(seed_url)\n",
      "Cell \u001b[1;32mIn[6], line 10\u001b[0m, in \u001b[0;36mfetch\u001b[1;34m(url)\u001b[0m\n\u001b[0;32m      8\u001b[0m \u001b[38;5;28;01mdef\u001b[39;00m\u001b[38;5;250m \u001b[39m\u001b[38;5;21mfetch\u001b[39m(url:\u001b[38;5;28mstr\u001b[39m)\u001b[38;5;241m-\u001b[39m\u001b[38;5;241m>\u001b[39m \u001b[38;5;28mstr\u001b[39m:\n\u001b[0;32m      9\u001b[0m     r \u001b[38;5;241m=\u001b[39mrequests\u001b[38;5;241m.\u001b[39mget(url,timeout\u001b[38;5;241m=\u001b[39m\u001b[38;5;241m30\u001b[39m,headers\u001b[38;5;241m=\u001b[39mHEADERS)\n\u001b[1;32m---> 10\u001b[0m     r\u001b[38;5;241m.\u001b[39mraise_for_status()\n\u001b[0;32m     11\u001b[0m     \u001b[38;5;28;01mreturn\u001b[39;00m r\u001b[38;5;241m.\u001b[39mtext\n",
      "File \u001b[1;32m~\\anaconda3\\Lib\\site-packages\\requests\\models.py:1024\u001b[0m, in \u001b[0;36mResponse.raise_for_status\u001b[1;34m(self)\u001b[0m\n\u001b[0;32m   1019\u001b[0m     http_error_msg \u001b[38;5;241m=\u001b[39m (\n\u001b[0;32m   1020\u001b[0m         \u001b[38;5;124mf\u001b[39m\u001b[38;5;124m\"\u001b[39m\u001b[38;5;132;01m{\u001b[39;00m\u001b[38;5;28mself\u001b[39m\u001b[38;5;241m.\u001b[39mstatus_code\u001b[38;5;132;01m}\u001b[39;00m\u001b[38;5;124m Server Error: \u001b[39m\u001b[38;5;132;01m{\u001b[39;00mreason\u001b[38;5;132;01m}\u001b[39;00m\u001b[38;5;124m for url: \u001b[39m\u001b[38;5;132;01m{\u001b[39;00m\u001b[38;5;28mself\u001b[39m\u001b[38;5;241m.\u001b[39murl\u001b[38;5;132;01m}\u001b[39;00m\u001b[38;5;124m\"\u001b[39m\n\u001b[0;32m   1021\u001b[0m     )\n\u001b[0;32m   1023\u001b[0m \u001b[38;5;28;01mif\u001b[39;00m http_error_msg:\n\u001b[1;32m-> 1024\u001b[0m     \u001b[38;5;28;01mraise\u001b[39;00m HTTPError(http_error_msg, response\u001b[38;5;241m=\u001b[39m\u001b[38;5;28mself\u001b[39m)\n",
      "\u001b[1;31mHTTPError\u001b[0m: 404 Client Error: NOTFOUND for url: https://surfer.nmr.mgh.harvard.edu/fswiki/reckon-all"
     ]
    }
   ],
   "source": [
    "import hashlib,requests,trafilatura\n",
    "from urllib.parse import urlparse\n",
    "\n",
    "HEADERS={\"USER-Agent\":\"neuro-assistant/0.1(local-notebook)\"}\n",
    "def sha(text:str)->str:\n",
    "    return hashlib.sha256(text.encode(\"utf-8\",errors=\"ignore\")).hexdigest()[:12]\n",
    "\n",
    "def fetch(url:str)-> str:\n",
    "    r =requests.get(url,timeout=30,headers=HEADERS)\n",
    "    r.raise_for_status()\n",
    "    return r.text\n",
    "\n",
    "def to_markdown(html:str,url:str)->str:\n",
    "    txt =trafilatura.extract(html, url=url, include_links=True, include_tables=True,include_formatting=True)\n",
    "    return txt or \"\"\n",
    "\n",
    "def safe_filename(url:str)->str:\n",
    "    u=url.replace(\"https://\",\"\").replace(\"http://\",\"\")\n",
    "    return u.replace(\"/\",\"_\").replace(\"?\",\"_\").replace(\"#\",\"_\")\n",
    "\n",
    "with open(REG_DIR /\"sources.yaml\",\"r\",encoding=\"utf-8\")as f:\n",
    "    seed_url =yaml.safe_load(f)[\"seeds\"][0]\n",
    "    \n",
    "html = fetch(seed_url)\n",
    "md = to_markdown(html,seed_url)\n",
    "tag= sha(seed_url)\n",
    "(ART_HTML /f\"{tag}.html\").write_text(html,encoding=\" utf-8\")\n",
    "(ART_MD /f\"{safe_filename(seed_url)}.md\").write_text(md, encoding=\" utf-8\")\n",
    "print(\"Saved HTML ->\",ART_HTML/f\"{tag}.html\")\n",
    "print(\"Saved MD ->\",ART_MD /f\"{safe_filename(seed_url)}.md\")\n",
    "print(\"\\n preview(first 500 chars):\\n\",md[:500])"
   ]
  },
  {
   "cell_type": "code",
   "execution_count": null,
   "id": "b6a17c2d-eaaa-4098-8451-85394995178c",
   "metadata": {},
   "outputs": [],
   "source": []
  }
 ],
 "metadata": {
  "kernelspec": {
   "display_name": "Python [conda env:base] *",
   "language": "python",
   "name": "conda-base-py"
  },
  "language_info": {
   "codemirror_mode": {
    "name": "ipython",
    "version": 3
   },
   "file_extension": ".py",
   "mimetype": "text/x-python",
   "name": "python",
   "nbconvert_exporter": "python",
   "pygments_lexer": "ipython3",
   "version": "3.13.5"
  }
 },
 "nbformat": 4,
 "nbformat_minor": 5
}
